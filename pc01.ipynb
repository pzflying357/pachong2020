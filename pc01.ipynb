{
 "cells": [
  {
   "cell_type": "code",
   "execution_count": 12,
   "metadata": {
    "collapsed": true,
    "pycharm": {
     "is_executing": false
    }
   },
   "outputs": [
    {
     "name": "stdout",
     "text": [
      "\n",
      "监利近四天天气预报\n",
      "15日星期日\t多云\t高温 20℃\t低温 11℃\t南风\n",
      "16日星期一\t晴\t高温 17℃\t低温 13℃\t东风\n",
      "17日星期二\t晴\t高温 18℃\t低温 10℃\t西风\n",
      "18日星期三\t晴\t高温 21℃\t低温 11℃\t南风\n",
      "\n",
      "\n"
     ],
     "output_type": "stream"
    }
   ],
   "source": [
    "# coding=utf-8\n",
    "import requests\n",
    "\n",
    "while True:\n",
    "    city = input(\"请输入查询天气城市名称: \")\n",
    "    if not city:\n",
    "        break\n",
    "    try:\n",
    "        r = requests.get('http://wthrcdn.etouch.cn/weather_mini?city=%s' % city)\n",
    "    except:\n",
    "        print('link error!')\n",
    "        break\n",
    "\n",
    "    city_data = r.json()\n",
    "    if city_data.get('data'):\n",
    "        yes = city_data['data']['yesterday']\n",
    "        forecast = city_data['data']['forecast']\n",
    "        print(\"\\n\" + city + \"近四天天气预报\")\n",
    "        print('%s\\t%s\\t%s\\t%s\\t%s' % (\n",
    "        yes['date'], yes['type'], yes['high'], yes['low'], yes['fx']))\n",
    "        print('%s\\t%s\\t%s\\t%s\\t%s' % (\n",
    "        forecast[0]['date'], forecast[0]['type'], forecast[0]['high'], forecast[0]['low'], forecast[0]['fengxiang']))\n",
    "        print('%s\\t%s\\t%s\\t%s\\t%s' % (\n",
    "        forecast[1]['date'], forecast[1]['type'], forecast[1]['high'], forecast[1]['low'], forecast[1]['fengxiang']))\n",
    "        print('%s\\t%s\\t%s\\t%s\\t%s' % (\n",
    "        forecast[2]['date'], forecast[2]['type'], forecast[2]['high'], forecast[2]['low'], forecast[2]['fengxiang']))\n",
    "        print('\\n')\n",
    "    else:\n",
    "        print('未找到该城市！')\n"
   ]
  }
 ],
 "metadata": {
  "kernelspec": {
   "display_name": "Python 3",
   "language": "python",
   "name": "python3"
  },
  "language_info": {
   "codemirror_mode": {
    "name": "ipython",
    "version": 2
   },
   "file_extension": ".py",
   "mimetype": "text/x-python",
   "name": "python",
   "nbconvert_exporter": "python",
   "pygments_lexer": "ipython2",
   "version": "2.7.6"
  },
  "pycharm": {
   "stem_cell": {
    "cell_type": "raw",
    "source": [],
    "metadata": {
     "collapsed": false
    }
   }
  }
 },
 "nbformat": 4,
 "nbformat_minor": 0
}